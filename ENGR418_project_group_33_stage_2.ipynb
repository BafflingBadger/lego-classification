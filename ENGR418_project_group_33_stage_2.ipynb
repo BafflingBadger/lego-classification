{
 "cells": [
  {
   "cell_type": "markdown",
   "metadata": {},
   "source": [
    "# **ENGR 418 - Project (Stage 2)**\n",
    "### *Group 33 Members:*\n",
    "#### Bonn Fernandez (42101212)\n",
    "#### Maxwell Rex (68722255)\n",
    "---"
   ]
  },
  {
   "cell_type": "markdown",
   "metadata": {},
   "source": [
    "### Imports"
   ]
  },
  {
   "cell_type": "code",
   "execution_count": 1,
   "metadata": {},
   "outputs": [],
   "source": [
    "import pandas as pd\n",
    "import numpy as np\n",
    "import matplotlib.pyplot as plt\n",
    "import glob\n",
    "from sklearn import linear_model\n",
    "from sklearn.neighbors import KNeighborsClassifier\n",
    "from skimage.io import imread, imshow\n",
    "from skimage.transform import resize\n",
    "from skimage import filters, feature, color"
   ]
  },
  {
   "cell_type": "markdown",
   "metadata": {},
   "source": [
    "### Feature Extraction Function"
   ]
  },
  {
   "cell_type": "code",
   "execution_count": 12,
   "metadata": {},
   "outputs": [],
   "source": [
    "def feature_extraction(path):\n",
    "    pictures = glob.glob(path + '/*.png')             # Used the glob library to determine the content/files in a given path/folder\n",
    "    x = []                                            # Instance an empty list\n",
    "    for point in range(0,len(pictures),1):            # Loops the algortithm based on the number of files in the path/folder\n",
    "        image = imread(pictures[point],as_gray=True)  # Collects RGB data from an image in a form of 3D array. Since it's grayscaled, its truncated into a 2D data array.\n",
    "        image = resize(image, (100, 100))             # Resize the image to 100x100\n",
    "        image = feature.canny(image, 5, 0.001, 0.07)  # Find edges using canny edge detection\n",
    "        img_height = image.shape[0]                   # Get the images height\n",
    "        img_width = image.shape[1]                    # Get the images width\n",
    "        area = 0                                      # Initialize the area to be zero\n",
    "        min_width = 100                               # Initialize the minimum width to be 100 (maximum width)\n",
    "        prev_width = width = max_diff_width = 0       # Initialize previous width, width, and maximum difference in width to be zero\n",
    "        for row in range(img_height):                 # For each row in the image:\n",
    "            first_edge = 0                            # Initialize first edge and last edge to be zero\n",
    "            last_edge = 0                             \n",
    "            for col in range(img_width):              # For each column in the row:\n",
    "                if(image[row][col] == True):          # Check to see if the pixel is an edge or not\n",
    "                    first_edge = col                  # Once the first edge is detected, assign it, then break out of the column loop\n",
    "                    break\n",
    "            for col in range(img_width):              # For each column in the row:\n",
    "                if(image[row][col] == True):          # Check to see if the pixel is an edge or not\n",
    "                    last_edge = col                   # If it is an edge, assign it (after the column loop is complete, only the last edge will be assigned)\n",
    "            prev_width = width\n",
    "            \n",
    "            # Find area (feature 1)\n",
    "            width = last_edge - first_edge            # Calculate width for that row\n",
    "            area += width                             # Add the width to the area variable (area will be complete after the last row's width is added)\n",
    "            \n",
    "            # Find maximum change in width (feature 2)\n",
    "            diff_width = abs(width-prev_width)        # Calculate the difference in width for that row\n",
    "            if(diff_width > max_diff_width):          # Check to see if it's the biggest change in width for the image\n",
    "                max_diff_width = diff_width\n",
    "            \n",
    "            # Find minimum width (feature 3)\n",
    "            if(width < min_width and width != 0):     # Check to see if the width is the smallest width for the image\n",
    "                min_width = width\n",
    "                \n",
    "        x.append([area, min_width, max_diff_width])   # Append the feature vector to the feature array\n",
    "        \n",
    "    x = np.array(x)\n",
    "    return x"
   ]
  },
  {
   "cell_type": "markdown",
   "metadata": {},
   "source": [
    "### Label Extraction Function"
   ]
  },
  {
   "cell_type": "code",
   "execution_count": 13,
   "metadata": {},
   "outputs": [],
   "source": [
    "# Determines the no. of images per class and creates the label/class vector\n",
    "def label_extraction(path):\n",
    "    cir = len(glob.glob(path + '/cir_*.png')) # Determines how many circle images there are in the path.\n",
    "    rec = len(glob.glob(path + '/rec_*.png')) # Determines how many rectangle images there are in the path.\n",
    "    squ = len(glob.glob(path + '/squ_*.png')) # Determines how many square images there are in the path.\n",
    "\n",
    "    i = 1\n",
    "    y = []\n",
    "    for shape in [cir,rec,squ]:               # Creates a list whose size is determined by the no. of points and their class; assuming the files in the path are organized accordingly: circle,rectangular,square \n",
    "        for j in range(0,shape,1):\n",
    "            y.append(i)                       # Appends a class number for each corresponding shape \n",
    "        i = i+1\n",
    "    y = np.array(y)                           # Converts the list into a numpy array\n",
    "    return y, cir, rec, squ"
   ]
  },
  {
   "cell_type": "markdown",
   "metadata": {},
   "source": [
    "### Classifier/Accuracy Function"
   ]
  },
  {
   "cell_type": "code",
   "execution_count": 14,
   "metadata": {},
   "outputs": [],
   "source": [
    "def classifier(test_path,model):       \n",
    "    x = feature_extraction(test_path)             # Calls the feature_extraction() function to collect features from testing dataset.\n",
    "    [y,cir,squ,rec] = label_extraction(test_path) # Calls the label_extraction() function to generate a label vector from the testing dataset.\n",
    "    preds = model.predict(x)                      # Uses our trained model to classify the testing dataset.\n",
    "    print(pd.crosstab(preds,y))                   # Shows the Confusion Matrix to determine its quality.\n",
    "    print(\"------------------------------------------------------\")\n",
    "    success = 0\n",
    "    for i in [0,1,2]:\n",
    "        points = [cir,rec,squ]\n",
    "        shape = ['circle','rectangle','square']  \n",
    "        success =  success + pd.crosstab(preds,y)[i+1][i+1]\n",
    "        print(f\"For the {shape[i]} lego, the accuracy of the classifier is {round((pd.crosstab(preds,y)[i+1][i+1]/points[i])*100,2)}%\") # Calculates accuracy of the classifier model for each shape.\n",
    "    print(f\"The overall accuracy of the classifier is {round((success/pd.crosstab(preds,y).sum().sum())*100,2)}%\")                      # Calculates the overall accuracy of the classifier model.\n",
    "    return "
   ]
  },
  {
   "cell_type": "markdown",
   "metadata": {},
   "source": [
    "### Model Training\n",
    "Make sure to update the train_path string to your training data's filepath"
   ]
  },
  {
   "cell_type": "code",
   "execution_count": 15,
   "metadata": {},
   "outputs": [
    {
     "data": {
      "text/plain": [
       "KNeighborsClassifier(n_neighbors=1)"
      ]
     },
     "execution_count": 15,
     "metadata": {},
     "output_type": "execute_result"
    }
   ],
   "source": [
    "train_path = './Stage2/training'                   # Set the filepath for the training dataset\n",
    "[yp,cir,rec,squ] = label_extraction(train_path)    # Get the label vector yp\n",
    "xp = feature_extraction(train_path)                # Get the feature array xp\n",
    "knn = KNeighborsClassifier(n_neighbors=1)          # Initialize a K-nearest-neighbors model \n",
    "knn.fit(xp,yp)                                     # Fit/train the model using xp and yp"
   ]
  },
  {
   "cell_type": "markdown",
   "metadata": {},
   "source": [
    "### Accuracy Test (Training Data)\n",
    "Make sure to update the training string to your training data's filepath"
   ]
  },
  {
   "cell_type": "code",
   "execution_count": 16,
   "metadata": {},
   "outputs": [
    {
     "name": "stdout",
     "output_type": "stream",
     "text": [
      "col_0   1   2   3\n",
      "row_0            \n",
      "1      27   0   0\n",
      "2       0  27   0\n",
      "3       0   0  27\n",
      "------------------------------------------------------\n",
      "For the circle lego, the accuracy of the classifier is 100.0%\n",
      "For the rectangle lego, the accuracy of the classifier is 100.0%\n",
      "For the square lego, the accuracy of the classifier is 100.0%\n",
      "The overall accuracy of the classifier is 100.0%\n"
     ]
    }
   ],
   "source": [
    "training = './Stage2/training'\n",
    "classifier(training,knn)"
   ]
  },
  {
   "cell_type": "markdown",
   "metadata": {},
   "source": [
    "### Accuracy Test (Testing Data)\n",
    "Make sure to update the training string to your testing data's filepath"
   ]
  },
  {
   "cell_type": "code",
   "execution_count": 17,
   "metadata": {},
   "outputs": [
    {
     "name": "stdout",
     "output_type": "stream",
     "text": [
      "col_0   1   2   3\n",
      "row_0            \n",
      "1      25   0   1\n",
      "2       0  24   0\n",
      "3       2   3  26\n",
      "------------------------------------------------------\n",
      "For the circle lego, the accuracy of the classifier is 92.59%\n",
      "For the rectangle lego, the accuracy of the classifier is 88.89%\n",
      "For the square lego, the accuracy of the classifier is 96.3%\n",
      "The overall accuracy of the classifier is 92.59%\n"
     ]
    }
   ],
   "source": [
    "testing = './Stage2/testing'\n",
    "classifier(testing,knn)"
   ]
  },
  {
   "cell_type": "code",
   "execution_count": null,
   "metadata": {},
   "outputs": [],
   "source": []
  }
 ],
 "metadata": {
  "kernelspec": {
   "display_name": "Python 3",
   "language": "python",
   "name": "python3"
  },
  "language_info": {
   "codemirror_mode": {
    "name": "ipython",
    "version": 3
   },
   "file_extension": ".py",
   "mimetype": "text/x-python",
   "name": "python",
   "nbconvert_exporter": "python",
   "pygments_lexer": "ipython3",
   "version": "3.8.3"
  }
 },
 "nbformat": 4,
 "nbformat_minor": 5
}
